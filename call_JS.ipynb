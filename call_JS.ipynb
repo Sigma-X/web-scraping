{
 "cells": [
  {
   "cell_type": "code",
   "execution_count": 4,
   "metadata": {
    "collapsed": false
   },
   "outputs": [],
   "source": [
    "#### 呼叫JavaScript\n",
    "#coding=utf-8\n",
    "from selenium import webdriver\n",
    "from time import sleep\n",
    "\n",
    "driver = webdriver.Chrome()\n",
    "driver.get(\"http://www.google.com.tw\")\n",
    "\n",
    "driver.set_window_size(800, 1000)\n",
    "\n",
    "driver.find_element_by_id(\"lst-ib\").send_keys(\"高鐵\")  # .send_keys():模擬鍵盤使用者輸入關鍵字\n",
    "driver.find_element_by_xpath(\"//input[@name='btnK']\").click()\n",
    "sleep(3)\n",
    "\n",
    "# 透過JavaScript設定瀏覽器視窗的捲軸位置\n",
    "js = \"window.scrollTo(100, 450);\"\n",
    "driver.execute_script(js)\n",
    "sleep(5)\n",
    "\n",
    "driver.quit()"
   ]
  }
 ],
 "metadata": {
  "kernelspec": {
   "display_name": "Python 3",
   "language": "python",
   "name": "python3"
  },
  "language_info": {
   "codemirror_mode": {
    "name": "ipython",
    "version": 3
   },
   "file_extension": ".py",
   "mimetype": "text/x-python",
   "name": "python",
   "nbconvert_exporter": "python",
   "pygments_lexer": "ipython3",
   "version": "3.5.2"
  }
 },
 "nbformat": 4,
 "nbformat_minor": 1
}
