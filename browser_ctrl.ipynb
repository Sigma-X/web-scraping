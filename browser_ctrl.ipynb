{
 "cells": [
  {
   "cell_type": "code",
   "execution_count": 5,
   "metadata": {
    "collapsed": false
   },
   "outputs": [
    {
     "name": "stdout",
     "output_type": "stream",
     "text": [
      "設定瀏覽器寬800、高900\n",
      "access http://www.google.com.tw\n",
      "access https://news.google.com.tw/\n",
      "back to http://www.google.com.tw\n",
      "forward to https://news.google.com.tw/\n"
     ]
    }
   ],
   "source": [
    "#coding=utf-8\n",
    "from selenium import webdriver\n",
    "from time import sleep\n",
    "\n",
    "driver = webdriver.Chrome()\n",
    "driver.get(\"http://www.google.com.tw\")\n",
    "\n",
    "print(\"設定瀏覽器寬800、高900\")\n",
    "driver.set_window_size(800, 900)\n",
    "\n",
    "driver.find_element_by_id(\"lst-ib\").send_keys(\"高鐵\")  # .send_keys():模擬鍵盤使用者輸入關鍵字\n",
    "driver.find_element_by_xpath(\"//input[@name='btnK']\").click()  # .click()：模擬使用者點擊\n",
    "sleep(7)\n",
    "\n",
    "###控制瀏覽器前進和後退\n",
    "# 存取首頁\n",
    "firstURL = \"http://www.google.com.tw\"\n",
    "print(\"access %s\"%(firstURL))\n",
    "driver.get(firstURL)\n",
    "sleep(8)\n",
    "\n",
    "# 點擊應用程式頁面\n",
    "driver.find_element_by_css_selector(\".gb_b.gb_5b\").click()\n",
    "sleep(4)\n",
    "\n",
    "# 存取新聞頁面\n",
    "secondURL = \"https://news.google.com.tw/\"\n",
    "print(\"access %s\"%(secondURL))\n",
    "driver.get(secondURL)\n",
    "sleep(7)\n",
    "\n",
    "# 後退到首頁\n",
    "print(\"back to %s\"%(firstURL))\n",
    "driver.back()\n",
    "sleep(7)\n",
    "\n",
    "# 前進到新聞頁\n",
    "print(\"forward to %s\"%(secondURL))\n",
    "driver.forward()\n",
    "sleep(8)\n",
    "\n",
    "driver.quit()"
   ]
  }
 ],
 "metadata": {
  "kernelspec": {
   "display_name": "Python 3",
   "language": "python",
   "name": "python3"
  },
  "language_info": {
   "codemirror_mode": {
    "name": "ipython",
    "version": 3
   },
   "file_extension": ".py",
   "mimetype": "text/x-python",
   "name": "python",
   "nbconvert_exporter": "python",
   "pygments_lexer": "ipython3",
   "version": "3.5.2"
  }
 },
 "nbformat": 4,
 "nbformat_minor": 1
}
