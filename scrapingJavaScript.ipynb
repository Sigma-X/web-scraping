{
 "cells": [
  {
   "cell_type": "code",
   "execution_count": 19,
   "metadata": {
    "collapsed": false
   },
   "outputs": [
    {
     "name": "stdout",
     "output_type": "stream",
     "text": [
      "This is some content that will appear on the page while it's loading. You don't care about scraping this.\n"
     ]
    }
   ],
   "source": [
    "## simulation using Selenium and PhantomJS (no brower) via setting time\n",
    "from selenium import webdriver\n",
    "import time\n",
    "\n",
    "# REPLACE WITH YOUR DRIVER PATH. EXAMPLES FOR CHROME AND PHANTOMJS\n",
    "driver = webdriver.PhantomJS(executable_path='/Users/edward/phantomjs-2.1.1-macosx/bin/phantomjs')\n",
    "#driver = webdriver.Chrome(executable_path='../chromedriver/chromedriver')\n",
    "\n",
    "driver.get(\"http://pythonscraping.com/pages/javascript/ajaxDemo.html\")\n",
    "time.sleep(1)  # Verify the differences between sleep(1) and sleep(3)\n",
    "\n",
    "contents = driver.find_element_by_id(\"content\").text \n",
    "print(contents)\n",
    "\n",
    "driver.close()"
   ]
  },
  {
   "cell_type": "code",
   "execution_count": 33,
   "metadata": {
    "collapsed": false
   },
   "outputs": [
    {
     "name": "stdout",
     "output_type": "stream",
     "text": [
      "Mon Mar 20 16:57:08 2017\n",
      "This is some content that will appear on the page while it's loading. You don't care about scraping this.\n"
     ]
    }
   ],
   "source": [
    "## implicitly_wait()\n",
    "from selenium import webdriver\n",
    "from selenium.common.exceptions import NoSuchElementException\n",
    "import time\n",
    "\n",
    "driver = webdriver.PhantomJS(executable_path='/Users/edward/phantomjs-2.1.1-macosx/bin/phantomjs')\n",
    "driver.implicitly_wait(10)\n",
    "driver.get(\"http://pythonscraping.com/pages/javascript/ajaxDemo.html\")\n",
    "\n",
    "try:\n",
    "    print(time.ctime())\n",
    "except NoSuchException as e:\n",
    "    print(e)\n",
    "finally:\n",
    "    words = driver.find_element_by_id(\"content\").text\n",
    "    print(words)\n",
    "\n",
    "driver.close()"
   ]
  },
  {
   "cell_type": "code",
   "execution_count": 40,
   "metadata": {
    "collapsed": false
   },
   "outputs": [
    {
     "name": "stdout",
     "output_type": "stream",
     "text": [
      "Mon Mar 20 17:01:24 2017\n",
      "Here is some important text you want to retrieve!\n",
      "A button to click!\n"
     ]
    }
   ],
   "source": [
    "## WebDriverWait()\n",
    "## Check whether id is loadedButton to determine whether pages are loaded completely.\n",
    "from selenium import webdriver\n",
    "from selenium.webdriver.common.by import By\n",
    "from selenium.webdriver.support.ui import WebDriverWait\n",
    "from selenium.webdriver.support import expected_conditions as EC\n",
    "from time import sleep\n",
    "\n",
    "driver = webdriver.PhantomJS(executable_path='/Users/edward/phantomjs-2.1.1-macosx/bin/phantomjs')\n",
    "#driver = webdriver.Chrome(executable_path='../chromedriver/chromedriver')\n",
    "driver.get(\"http://pythonscraping.com/pages/javascript/ajaxDemo.html\")\n",
    "\n",
    "try:\n",
    "    print(time.ctime())\n",
    "    element = WebDriverWait(driver, 10). \\\n",
    "        until(EC.presence_of_element_located((By.ID, \"loadedButton\")))\n",
    "    # WebDriverWait(driver, timeout, poll_frequency=0.5, ignored_expections=None)\n",
    "    \n",
    "finally:\n",
    "    words = driver.find_element_by_id(\"content\").text\n",
    "    print(words)\n",
    "    \n",
    "driver.close()"
   ]
  },
  {
   "cell_type": "code",
   "execution_count": 42,
   "metadata": {
    "collapsed": false
   },
   "outputs": [
    {
     "name": "stdout",
     "output_type": "stream",
     "text": [
      "Mon Mar 20 17:02:24 2017\n",
      "This is some content that will appear on the page while it's loading. You don't care about scraping this.\n",
      "This is some content that will appear on the page while it's loading. You don't care about scraping this.\n",
      "This is some content that will appear on the page while it's loading. You don't care about scraping this.\n",
      "Here is some important text you want to retrieve!\n",
      "A button to click!\n",
      "Here is some important text you want to retrieve!\n",
      "A button to click!\n",
      "Here is some important text you want to retrieve!\n",
      "A button to click!\n",
      "Here is some important text you want to retrieve!\n",
      "A button to click!\n",
      "Here is some important text you want to retrieve!\n",
      "A button to click!\n",
      "Here is some important text you want to retrieve!\n",
      "A button to click!\n",
      "Here is some important text you want to retrieve!\n",
      "A button to click!\n",
      "time out\n"
     ]
    }
   ],
   "source": [
    "driver = webdriver.PhantomJS(executable_path='/Users/edward/phantomjs-2.1.1-macosx/bin/phantomjs')\n",
    "driver.get(\"http://pythonscraping.com/pages/javascript/ajaxDemo.html\")\n",
    "\n",
    "print(time.ctime())\n",
    "for i in range(10):\n",
    "    try:\n",
    "        contents = driver.find_element_by_id(\"content\").text\n",
    "        print(contents)\n",
    "        \n",
    "        if contents.is_displayed():\n",
    "            break\n",
    "    except: pass\n",
    "    sleep(1)\n",
    "else:\n",
    "    print(\"time out\")\n",
    "\n",
    "driver.close()"
   ]
  }
 ],
 "metadata": {
  "kernelspec": {
   "display_name": "Python 3",
   "language": "python",
   "name": "python3"
  },
  "language_info": {
   "codemirror_mode": {
    "name": "ipython",
    "version": 3
   },
   "file_extension": ".py",
   "mimetype": "text/x-python",
   "name": "python",
   "nbconvert_exporter": "python",
   "pygments_lexer": "ipython3",
   "version": "3.5.2"
  }
 },
 "nbformat": 4,
 "nbformat_minor": 1
}
